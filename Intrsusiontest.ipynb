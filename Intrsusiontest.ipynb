{
 "cells": [
  {
   "cell_type": "code",
   "execution_count": 1,
   "id": "67c5a23b",
   "metadata": {},
   "outputs": [],
   "source": [
    "import csv\n",
    "import random\n",
    "import numpy as np\n",
    "import matplotlib.pyplot as plt\n",
    "from sklearn.linear_model import LogisticRegression\n",
    "from sklearn.preprocessing import StandardScaler\n",
    "from sklearn.metrics import classification_report\n",
    "from sklearn.model_selection import train_test_split"
   ]
  },
  {
   "cell_type": "code",
   "execution_count": 2,
   "id": "f058ea68",
   "metadata": {},
   "outputs": [],
   "source": [
    "# Generate simulated dataset\n",
    "def generate_data(num_samples=120000):\n",
    "    data = []\n",
    "    for _ in range(num_samples):\n",
    "        connection_duration = random.uniform(1, 60)  # in minutes\n",
    "        signal_strength = random.uniform(-100, -30)  # in dBm\n",
    "        data_transfer_rate = random.uniform(1, 100)  # in Mbps\n",
    "        time_of_day = random.uniform(0, 24)  # in hours\n",
    "\n",
    "        # Simulate intrusions\n",
    "        is_intrusion = random.random() < 0.1  # 10% chance of being an intrusion\n",
    "\n",
    "        data.append([connection_duration, signal_strength, data_transfer_rate, time_of_day, is_intrusion])\n",
    "\n",
    "    with open('bluetooth_data1.csv', 'w', newline='') as file:\n",
    "        writer = csv.writer(file)\n",
    "        writer.writerow(['connection_duration', 'signal_strength', 'data_transfer_rate', 'time_of_day', 'is_intrusion'])\n",
    "        writer.writerows(data)"
   ]
  },
  {
   "cell_type": "code",
   "execution_count": 3,
   "id": "028dcec3",
   "metadata": {},
   "outputs": [],
   "source": [
    "import pandas as pd\n",
    "import numpy as np\n",
    "\n",
    "def preprocess_data(file_path):\n",
    "    data = pd.read_csv(file_path)\n",
    "    print(f\"NaN values in dataset:\\n{data.isna().sum()}\")\n",
    "    \n",
    "    # Remove rows with NaN values\n",
    "    data_cleaned = data.dropna()\n",
    "    \n",
    "    # Split features and target\n",
    "    X = data_cleaned.iloc[:, :-1].values\n",
    "    y = data_cleaned.iloc[:, -1].values\n",
    "    \n",
    "    return X, y"
   ]
  },
  {
   "cell_type": "code",
   "execution_count": 4,
   "id": "397ee825",
   "metadata": {},
   "outputs": [],
   "source": [
    "def train_model():\n",
    "    X, y = preprocess_data('bluetooth_data1.csv')\n",
    "    \n",
    "    if len(X) == 0 or len(y) == 0:\n",
    "        raise ValueError(\"All data rows contained NaN values and were removed. Please review your data collection process.\")\n",
    "\n",
    "    scaler = StandardScaler()\n",
    "    X_scaled = scaler.fit_transform(X)\n",
    "\n",
    "    X_train, X_test, y_train, y_test = train_test_split(X_scaled, y, test_size=0.3, random_state=42)\n",
    "\n",
    "    model = LogisticRegression(class_weight='balanced')\n",
    "    model.fit(X_train, y_train)\n",
    "\n",
    "    y_pred = model.predict(X_test)\n",
    "    print(classification_report(y_test, y_pred))\n",
    "\n",
    "    return model, scaler"
   ]
  },
  {
   "cell_type": "code",
   "execution_count": 5,
   "id": "6442d957",
   "metadata": {},
   "outputs": [],
   "source": [
    "# Classify a connection\n",
    "def classify_connection(model, scaler, sample):\n",
    "    sample_scaled = scaler.transform([[\n",
    "        sample['connection_duration'],\n",
    "        sample['signal_strength'],\n",
    "        sample['data_transfer_rate'],\n",
    "        sample['time_of_day']\n",
    "    ]])\n",
    "    return model.predict(sample_scaled)[0]"
   ]
  },
  {
   "cell_type": "code",
   "execution_count": 6,
   "id": "71ed065f",
   "metadata": {},
   "outputs": [
    {
     "name": "stdout",
     "output_type": "stream",
     "text": [
      "NaN values in dataset:\n",
      "connection_duration    0\n",
      "signal_strength        0\n",
      "data_transfer_rate     0\n",
      "time_of_day            0\n",
      "is_intrusion           0\n",
      "dtype: int64\n",
      "              precision    recall  f1-score   support\n",
      "\n",
      "       False       0.91      0.57      0.70       271\n",
      "        True       0.11      0.48      0.18        29\n",
      "\n",
      "    accuracy                           0.56       300\n",
      "   macro avg       0.51      0.53      0.44       300\n",
      "weighted avg       0.83      0.56      0.65       300\n",
      "\n",
      "\n",
      "Options:\n",
      "1. Display Bluetooth connections\n",
      "2. Simulate real-time detection\n",
      "3. Exit\n",
      "\n"
     ]
    },
    {
     "name": "stdin",
     "output_type": "stream",
     "text": [
      "Enter your choice:  1\n"
     ]
    },
    {
     "data": {
      "image/png": "[encoded data removed]",
      "text/plain": [
       "<Figure size 640x480 with 1 Axes>"
      ]
     },
     "metadata": {},
     "output_type": "display_data"
    },
    {
     "name": "stdout",
     "output_type": "stream",
     "text": [
      "\n",
      "Options:\n",
      "1. Display Bluetooth connections\n",
      "2. Simulate real-time detection\n",
      "3. Exit\n",
      "\n"
     ]
    },
    {
     "name": "stdin",
     "output_type": "stream",
     "text": [
      "Enter your choice:  2\n"
     ]
    },
    {
     "name": "stdout",
     "output_type": "stream",
     "text": [
      "Data: {'connection_duration': 5, 'signal_strength': -60, 'data_transfer_rate': 3, 'time_of_day': 10} => Status: Intrusion Detected!\n",
      "\n",
      "Blocking intrusion: {'connection_duration': 5, 'signal_strength': -60, 'data_transfer_rate': 3, 'time_of_day': 10}\n",
      "\n",
      "Data: {'connection_duration': 20, 'signal_strength': -40, 'data_transfer_rate': 10, 'time_of_day': 23} => Status: Intrusion Detected!\n",
      "\n",
      "Blocking intrusion: {'connection_duration': 20, 'signal_strength': -40, 'data_transfer_rate': 10, 'time_of_day': 23}\n",
      "\n",
      "Data: {'connection_duration': 7, 'signal_strength': -55, 'data_transfer_rate': 2, 'time_of_day': 15} => Status: Intrusion Detected!\n",
      "\n",
      "Blocking intrusion: {'connection_duration': 7, 'signal_strength': -55, 'data_transfer_rate': 2, 'time_of_day': 15}\n",
      "\n",
      "Data: {'connection_duration': 30, 'signal_strength': -30, 'data_transfer_rate': 15, 'time_of_day': 3} => Status: Normal Connection\n",
      "\n",
      "Data: {'connection_duration': 1, 'signal_strength': -90, 'data_transfer_rate': 50, 'time_of_day': 3} => Status: Intrusion Detected!\n",
      "\n",
      "Blocking intrusion: {'connection_duration': 1, 'signal_strength': -90, 'data_transfer_rate': 50, 'time_of_day': 3}\n",
      "\n",
      "\n",
      "Options:\n",
      "1. Display Bluetooth connections\n",
      "2. Simulate real-time detection\n",
      "3. Exit\n",
      "\n"
     ]
    },
    {
     "name": "stdin",
     "output_type": "stream",
     "text": [
      "Enter your choice:  3\n"
     ]
    }
   ],
   "source": [
    "# Block an intrusion (simulated)\n",
    "def block_intrusion(sample):\n",
    "    print(f\"Blocking intrusion: {sample}\\n\")\n",
    "\n",
    "# Command-line interface\n",
    "def main():\n",
    "    # generate_data()\n",
    "    model, scaler = train_model()\n",
    "\n",
    "    while True:\n",
    "        print(\"\\nOptions:\")\n",
    "        print(\"1. Display Bluetooth connections\")\n",
    "        print(\"2. Simulate real-time detection\")\n",
    "        print(\"3. Exit\\n\")\n",
    "        choice = input(\"Enter your choice: \")\n",
    "\n",
    "        if choice == '1':\n",
    "            data = np.genfromtxt('bluetooth_data1.csv', delimiter=',', skip_header=1)\n",
    "            plt.scatter(data[:, 0], data[:, 2], c=data[:, -1], cmap='bwr')\n",
    "            plt.xlabel('Connection Duration')\n",
    "            plt.ylabel('Data Transfer Rate')\n",
    "            plt.title('Bluetooth Connections')\n",
    "            plt.show()\n",
    "        elif choice == '2':\n",
    "            test_samples = [\n",
    "                {'connection_duration': 5, 'signal_strength': -60, 'data_transfer_rate': 3, 'time_of_day': 10},\n",
    "                {'connection_duration': 20, 'signal_strength': -40, 'data_transfer_rate': 10, 'time_of_day': 23},\n",
    "                {'connection_duration': 7, 'signal_strength': -55, 'data_transfer_rate': 2, 'time_of_day': 15},\n",
    "                {'connection_duration': 30, 'signal_strength': -30, 'data_transfer_rate': 15, 'time_of_day': 3},\n",
    "                {'connection_duration': 1, 'signal_strength': -90, 'data_transfer_rate': 50, 'time_of_day': 3}\n",
    "            ]\n",
    "\n",
    "            for sample in test_samples:\n",
    "                prediction = classify_connection(model, scaler, sample)\n",
    "                status = \"Intrusion Detected!\\n\" if prediction == 1 else \"Normal Connection\\n\"\n",
    "                print(f\"Data: {sample} => Status: {status}\")\n",
    "                if prediction == 1:\n",
    "                    block_intrusion(sample)\n",
    "        elif choice == '3':\n",
    "            break\n",
    "        else:\n",
    "            print(\"Invalid choice. Please try again.\")\n",
    "\n",
    "if __name__ == \"__main__\": \n",
    "    main()\n",
    "\n"
   ]
  },
  {
   "cell_type": "markdown",
   "id": "8cf0f188",
   "metadata": {},
   "source": [
    "  ## To block a Bluetooth connection"
   ]
  },
  {
   "cell_type": "code",
   "execution_count": 17,
   "id": "17ba6268",
   "metadata": {},
   "outputs": [
    {
     "name": "stderr",
     "output_type": "stream",
     "text": [
      "INFO:root:Attempting to block device with address: 00:11:22:33:44:55\n",
      "ERROR:root:Failed to block device 00:11:22:33:44:55: Block-BTDevice : The term 'Block-BTDevice' is not recognized as the name of a cmdlet, function, script file, or \n",
      "operable program. Check the spelling of the name, or if a path was included, verify that the path is correct and try \n",
      "again.\n",
      "At line:1 char:1\n",
      "+ Block-BTDevice -DeviceAddress '00:11:22:33:44:55'\n",
      "+ ~~~~~~~~~~~~~~\n",
      "    + CategoryInfo          : ObjectNotFound: (Block-BTDevice:String) [], CommandNotFoundException\n",
      "    + FullyQualifiedErrorId : CommandNotFoundException\n",
      " \n",
      "\n"
     ]
    }
   ],
   "source": [
    "import logging\n",
    "import subprocess\n",
    "import sys\n",
    "\n",
    "logging.basicConfig(level=logging.INFO)\n",
    "\n",
    "def block_intrusion(device_address):\n",
    "    try:\n",
    "        logging.info(f\"Attempting to block device with address: {device_address}\")\n",
    "        \n",
    "        if sys.platform.startswith('linux'):\n",
    "            # Linux-specific blocking command (replace with actual command)\n",
    "            command = ['sudo', 'rfcomm', 'block', device_address]\n",
    "        elif sys.platform == 'darwin':\n",
    "            # macOS-specific blocking command (replace with actual command)\n",
    "            command = ['sudo', 'blueutil', '--block', device_address]\n",
    "        elif sys.platform == 'win32':\n",
    "            # Windows-specific blocking command (replace with actual command)\n",
    "            command = ['powershell', '-Command', f\"Block-BTDevice -DeviceAddress '{device_address}'\"]\n",
    "        else:\n",
    "            raise NotImplementedError(f\"Blocking not implemented for {sys.platform}\")\n",
    "\n",
    "        result = subprocess.run(command, check=True, capture_output=True, text=True)\n",
    "        logging.info(f\"Device {device_address} blocked successfully. Output: {result.stdout}\")\n",
    "    except subprocess.CalledProcessError as e:\n",
    "        logging.error(f\"Failed to block device {device_address}: {e.stderr}\")\n",
    "    except Exception as e:\n",
    "        logging.error(f\"Unexpected error blocking device {device_address}: {e}\")\n",
    "\n",
    "# Example usage\n",
    "sample_intrusion = {'device_address': '00:11:22:33:44:55', 'connection_duration': 30, 'signal_strength': -30, 'data_transfer_rate': 15, 'time_of_day': 3}\n",
    "block_intrusion(sample_intrusion['device_address'])\n",
    "\n",
    "## NOTE: This\n",
    "# Actual Bluetooth blocking would require system-level permissions and would vary \n",
    "# depending on the operating \n",
    "# system and Bluetooth stack being used.\n",
    "\n",
    "# In a real implementation, you'd want to use more secure methods like subprocess.run() \n",
    "# with proper input sanitization"
   ]
  },
  {
   "cell_type": "code",
   "execution_count": null,
   "id": "6d6d2dce",
   "metadata": {},
   "outputs": [],
   "source": []
  }
 ],
 "metadata": {
  "kernelspec": {
   "display_name": "Python 3 (ipykernel)",
   "language": "python",
   "name": "python3"
  },
  "language_info": {
   "codemirror_mode": {
    "name": "ipython",
    "version": 3
   },
   "file_extension": ".py",
   "mimetype": "text/x-python",
   "name": "python",
   "nbconvert_exporter": "python",
   "pygments_lexer": "ipython3",
   "version": "3.11.5"
  }
 },
 "nbformat": 4,
 "nbformat_minor": 5
}
