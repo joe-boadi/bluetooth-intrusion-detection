{
 "cells": [
  {
   "cell_type": "code",
   "execution_count": 9,
   "metadata": {},
   "outputs": [],
   "source": [
    "import csv\n",
    "import random\n",
    "import matplotlib.pyplot as plt\n",
    "from sklearn.linear_model import LogisticRegression\n",
    "from sklearn.ensemble import RandomForestClassifier\n",
    "from sklearn.preprocessing import StandardScaler\n",
    "from sklearn.metrics import classification_report, accuracy_score, precision_score\n",
    "from sklearn.model_selection import train_test_split, cross_val_score\n",
    "import pandas as pd\n",
    "import numpy as np"
   ]
  },
  {
   "cell_type": "code",
   "execution_count": 10,
   "metadata": {},
   "outputs": [],
   "source": [
    "# Generate simulated dataset\n",
    "def generate_data(num_samples=200000):\n",
    "    data = []\n",
    "    for _ in range(num_samples):\n",
    "        connection_duration = random.uniform(1, 60)  # in minutes\n",
    "        signal_strength = random.uniform(-100, -30)  # in dBm\n",
    "        data_transfer_rate = random.uniform(1, 100)  # in Mbps\n",
    "        time_of_day = random.uniform(0, 24)  # in hours\n",
    "\n",
    "        # Simulate intrusions (10% chance)\n",
    "        is_intrusion = random.random() < 0.3\n",
    "\n",
    "        # Adjust parameters for intrusions to make them more distinct\n",
    "        if is_intrusion:\n",
    "            connection_duration *= 1.5\n",
    "            signal_strength *= 0.8\n",
    "            data_transfer_rate *= 1.2\n",
    "\n",
    "        data.append([connection_duration, signal_strength, data_transfer_rate, time_of_day, int(is_intrusion)])\n",
    "\n",
    "    with open('bluetooth_new_data.csv', 'w', newline='') as file:\n",
    "        writer = csv.writer(file)\n",
    "        writer.writerow(['connection_duration', 'signal_strength', 'data_transfer_rate', 'time_of_day', 'is_intrusion'])\n",
    "        writer.writerows(data)\n",
    "        \n",
    "generate_data(num_samples=200000)"
   ]
  },
  {
   "cell_type": "code",
   "execution_count": 11,
   "metadata": {},
   "outputs": [
    {
     "name": "stdout",
     "output_type": "stream",
     "text": [
      "NaN values in dataset:\n",
      "connection_duration    0\n",
      "signal_strength        0\n",
      "data_transfer_rate     0\n",
      "time_of_day            0\n",
      "is_intrusion           0\n",
      "dtype: int64\n"
     ]
    }
   ],
   "source": [
    "def preprocess_data(file_path):\n",
    "    try:\n",
    "        data = pd.read_csv(file_path)\n",
    "        print(f\"NaN values in dataset:\\n{data.isna().sum()}\")\n",
    "        \n",
    "        # Remove rows with NaN values\n",
    "        data_cleaned = data.dropna()\n",
    "        \n",
    "        # Split features and target\n",
    "        X = data_cleaned.iloc[:, :-1].values\n",
    "        y = data_cleaned.iloc[:, -1].values\n",
    "        \n",
    "        return X, y\n",
    "    except FileNotFoundError:\n",
    "        print(f\"Error: File '{file_path}' not found. Generating new data...\")\n",
    "        generate_data()\n",
    "        return preprocess_data(file_path)\n",
    "\n",
    "X, y = preprocess_data('bluetooth_new_data.csv')"
   ]
  },
  {
   "cell_type": "code",
   "execution_count": 12,
   "metadata": {},
   "outputs": [
    {
     "name": "stdout",
     "output_type": "stream",
     "text": [
      "NaN values in dataset:\n",
      "connection_duration    0\n",
      "signal_strength        0\n",
      "data_transfer_rate     0\n",
      "time_of_day            0\n",
      "label                  0\n",
      "dtype: int64\n",
      "\n",
      "Logistic Regression Results:\n",
      "              precision    recall  f1-score   support\n",
      "\n",
      "           0       0.91      0.54      0.68      2711\n",
      "           1       0.10      0.50      0.17       289\n",
      "\n",
      "    accuracy                           0.53      3000\n",
      "   macro avg       0.51      0.52      0.42      3000\n",
      "weighted avg       0.83      0.53      0.63      3000\n",
      "\n",
      "Accuracy: 0.53\n",
      "Precision: 0.10\n",
      "Cross-validation scores: [0.539  0.529  0.5005 0.523  0.507 ]\n",
      "Mean CV score: 0.52\n",
      "\n",
      "Random Forest Results:\n",
      "              precision    recall  f1-score   support\n",
      "\n",
      "           0       0.90      1.00      0.95      2711\n",
      "           1       0.00      0.00      0.00       289\n",
      "\n",
      "    accuracy                           0.90      3000\n",
      "   macro avg       0.45      0.50      0.47      3000\n",
      "weighted avg       0.82      0.90      0.86      3000\n",
      "\n",
      "Accuracy: 0.90\n",
      "Precision: 0.00\n",
      "Cross-validation scores: [0.902  0.903  0.9025 0.9025 0.9015]\n",
      "Mean CV score: 0.90\n"
     ]
    },
    {
     "data": {
      "text/plain": [
       "(RandomForestClassifier(class_weight='balanced'), StandardScaler())"
      ]
     },
     "execution_count": 12,
     "metadata": {},
     "output_type": "execute_result"
    }
   ],
   "source": [
    "def train_model():\n",
    "    X, y = preprocess_data('bluetooth_data.csv')\n",
    "    \n",
    "    if len(X) == 0 or len(y) == 0:\n",
    "        raise ValueError(\"All data rows contained NaN values and were removed. Please review your data collection process.\")\n",
    "\n",
    "    scaler = StandardScaler()\n",
    "    X_scaled = scaler.fit_transform(X)\n",
    "\n",
    "    X_train, X_test, y_train, y_test = train_test_split(X_scaled, y, test_size=0.3, random_state=42)\n",
    "\n",
    "    # Try both Logistic Regression and Random Forest\n",
    "    models = {\n",
    "        'Logistic Regression': LogisticRegression(class_weight='balanced'),\n",
    "        'Random Forest': RandomForestClassifier(class_weight='balanced', n_estimators=100)\n",
    "    }\n",
    "\n",
    "    best_model = None\n",
    "    best_accuracy = 0\n",
    "\n",
    "    for name, model in models.items():\n",
    "        model.fit(X_train, y_train)\n",
    "        y_pred = model.predict(X_test)\n",
    "        accuracy = accuracy_score(y_test, y_pred)\n",
    "        precision = precision_score(y_test, y_pred)\n",
    "        \n",
    "        print(f\"\\n{name} Results:\")\n",
    "        print(classification_report(y_test, y_pred))\n",
    "        print(f\"Accuracy: {accuracy:.2f}\")\n",
    "        print(f\"Precision: {precision:.2f}\")\n",
    "\n",
    "        # Perform cross-validation\n",
    "        cv_scores = cross_val_score(model, X_scaled, y, cv=5)\n",
    "        print(f\"Cross-validation scores: {cv_scores}\")\n",
    "        print(f\"Mean CV score: {cv_scores.mean():.2f}\")\n",
    "\n",
    "        if accuracy > best_accuracy:\n",
    "            best_accuracy = accuracy\n",
    "            best_model = model\n",
    "\n",
    "    return best_model, scaler\n",
    "\n",
    "train_model()"
   ]
  },
  {
   "cell_type": "code",
   "execution_count": 6,
   "metadata": {},
   "outputs": [],
   "source": [
    "# Classify a connection\n",
    "def classify_connection(model, scaler, sample):\n",
    "    sample_scaled = scaler.transform([sample])\n",
    "    return model.predict(sample_scaled)[0]\n",
    "\n",
    "# Block an intrusion (simulated)\n",
    "def block_intrusion(sample):\n",
    "    print(f\"Blocking intrusion: {sample}\\n\")"
   ]
  },
  {
   "cell_type": "code",
   "execution_count": 7,
   "metadata": {},
   "outputs": [],
   "source": [
    "# Visualization functions\n",
    "def plot_connections(data):\n",
    "    plt.figure(figsize=(10, 6))\n",
    "    plt.scatter(data[:, 0], data[:, 2], c=data[:, -1], cmap='bwr')\n",
    "    plt.xlabel('Connection Duration')\n",
    "    plt.ylabel('Data Transfer Rate')\n",
    "    plt.title('Bluetooth Connections')\n",
    "    plt.colorbar(label='Intrusion (1) / Normal (0)')\n",
    "    plt.show()\n",
    "\n",
    "def plot_feature_importance(model, feature_names):\n",
    "    if hasattr(model, 'feature_importances_'):\n",
    "        importances = model.feature_importances_\n",
    "        indices = np.argsort(importances)[::-1]\n",
    "\n",
    "        plt.figure(figsize=(10, 6))\n",
    "        plt.title(\"Feature Importances\")\n",
    "        plt.bar(range(len(importances)), importances[indices])\n",
    "        plt.xticks(range(len(importances)), [feature_names[i] for i in indices], rotation=45)\n",
    "        plt.tight_layout()\n",
    "        plt.show()\n",
    "    else:\n",
    "        print(\"This model doesn't support feature importance visualization.\")"
   ]
  }
 ],
 "metadata": {
  "kernelspec": {
   "display_name": "venv",
   "language": "python",
   "name": "python3"
  },
  "language_info": {
   "codemirror_mode": {
    "name": "ipython",
    "version": 3
   },
   "file_extension": ".py",
   "mimetype": "text/x-python",
   "name": "python",
   "nbconvert_exporter": "python",
   "pygments_lexer": "ipython3",
   "version": "3.12.1"
  }
 },
 "nbformat": 4,
 "nbformat_minor": 2
}
